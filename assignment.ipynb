{
 "cells": [
  {
   "cell_type": "markdown",
   "id": "9b3e8f6a",
   "metadata": {},
   "source": [
    "# MEEN 423 Hw 4\n",
    "# Marawan Hussein\n",
    "# 328000022"
   ]
  },
  {
   "cell_type": "markdown",
   "id": "8ca2672e",
   "metadata": {},
   "source": [
    "# Task 1"
   ]
  },
  {
   "cell_type": "code",
   "execution_count": 1,
   "id": "8651c3e0",
   "metadata": {},
   "outputs": [
    {
     "data": {
      "text/html": [
       "<div>\n",
       "<style scoped>\n",
       "    .dataframe tbody tr th:only-of-type {\n",
       "        vertical-align: middle;\n",
       "    }\n",
       "\n",
       "    .dataframe tbody tr th {\n",
       "        vertical-align: top;\n",
       "    }\n",
       "\n",
       "    .dataframe thead th {\n",
       "        text-align: right;\n",
       "    }\n",
       "</style>\n",
       "<table border=\"1\" class=\"dataframe\">\n",
       "  <thead>\n",
       "    <tr style=\"text-align: right;\">\n",
       "      <th></th>\n",
       "      <th>cement</th>\n",
       "      <th>slag</th>\n",
       "      <th>ash</th>\n",
       "      <th>water</th>\n",
       "      <th>superplastic</th>\n",
       "      <th>coarseagg</th>\n",
       "      <th>fineagg</th>\n",
       "      <th>age</th>\n",
       "      <th>strength</th>\n",
       "    </tr>\n",
       "  </thead>\n",
       "  <tbody>\n",
       "    <tr>\n",
       "      <th>0</th>\n",
       "      <td>141.3</td>\n",
       "      <td>212.0</td>\n",
       "      <td>0.0</td>\n",
       "      <td>203.5</td>\n",
       "      <td>0.0</td>\n",
       "      <td>971.8</td>\n",
       "      <td>748.5</td>\n",
       "      <td>28</td>\n",
       "      <td>29.89</td>\n",
       "    </tr>\n",
       "    <tr>\n",
       "      <th>1</th>\n",
       "      <td>168.9</td>\n",
       "      <td>42.2</td>\n",
       "      <td>124.3</td>\n",
       "      <td>158.3</td>\n",
       "      <td>10.8</td>\n",
       "      <td>1080.8</td>\n",
       "      <td>796.2</td>\n",
       "      <td>14</td>\n",
       "      <td>23.51</td>\n",
       "    </tr>\n",
       "    <tr>\n",
       "      <th>2</th>\n",
       "      <td>250.0</td>\n",
       "      <td>0.0</td>\n",
       "      <td>95.7</td>\n",
       "      <td>187.4</td>\n",
       "      <td>5.5</td>\n",
       "      <td>956.9</td>\n",
       "      <td>861.2</td>\n",
       "      <td>28</td>\n",
       "      <td>29.22</td>\n",
       "    </tr>\n",
       "    <tr>\n",
       "      <th>3</th>\n",
       "      <td>266.0</td>\n",
       "      <td>114.0</td>\n",
       "      <td>0.0</td>\n",
       "      <td>228.0</td>\n",
       "      <td>0.0</td>\n",
       "      <td>932.0</td>\n",
       "      <td>670.0</td>\n",
       "      <td>28</td>\n",
       "      <td>45.85</td>\n",
       "    </tr>\n",
       "    <tr>\n",
       "      <th>4</th>\n",
       "      <td>154.8</td>\n",
       "      <td>183.4</td>\n",
       "      <td>0.0</td>\n",
       "      <td>193.3</td>\n",
       "      <td>9.1</td>\n",
       "      <td>1047.4</td>\n",
       "      <td>696.7</td>\n",
       "      <td>28</td>\n",
       "      <td>18.29</td>\n",
       "    </tr>\n",
       "    <tr>\n",
       "      <th>...</th>\n",
       "      <td>...</td>\n",
       "      <td>...</td>\n",
       "      <td>...</td>\n",
       "      <td>...</td>\n",
       "      <td>...</td>\n",
       "      <td>...</td>\n",
       "      <td>...</td>\n",
       "      <td>...</td>\n",
       "      <td>...</td>\n",
       "    </tr>\n",
       "    <tr>\n",
       "      <th>1025</th>\n",
       "      <td>135.0</td>\n",
       "      <td>0.0</td>\n",
       "      <td>166.0</td>\n",
       "      <td>180.0</td>\n",
       "      <td>10.0</td>\n",
       "      <td>961.0</td>\n",
       "      <td>805.0</td>\n",
       "      <td>28</td>\n",
       "      <td>13.29</td>\n",
       "    </tr>\n",
       "    <tr>\n",
       "      <th>1026</th>\n",
       "      <td>531.3</td>\n",
       "      <td>0.0</td>\n",
       "      <td>0.0</td>\n",
       "      <td>141.8</td>\n",
       "      <td>28.2</td>\n",
       "      <td>852.1</td>\n",
       "      <td>893.7</td>\n",
       "      <td>3</td>\n",
       "      <td>41.30</td>\n",
       "    </tr>\n",
       "    <tr>\n",
       "      <th>1027</th>\n",
       "      <td>276.4</td>\n",
       "      <td>116.0</td>\n",
       "      <td>90.3</td>\n",
       "      <td>179.6</td>\n",
       "      <td>8.9</td>\n",
       "      <td>870.1</td>\n",
       "      <td>768.3</td>\n",
       "      <td>28</td>\n",
       "      <td>44.28</td>\n",
       "    </tr>\n",
       "    <tr>\n",
       "      <th>1028</th>\n",
       "      <td>342.0</td>\n",
       "      <td>38.0</td>\n",
       "      <td>0.0</td>\n",
       "      <td>228.0</td>\n",
       "      <td>0.0</td>\n",
       "      <td>932.0</td>\n",
       "      <td>670.0</td>\n",
       "      <td>270</td>\n",
       "      <td>55.06</td>\n",
       "    </tr>\n",
       "    <tr>\n",
       "      <th>1029</th>\n",
       "      <td>540.0</td>\n",
       "      <td>0.0</td>\n",
       "      <td>0.0</td>\n",
       "      <td>173.0</td>\n",
       "      <td>0.0</td>\n",
       "      <td>1125.0</td>\n",
       "      <td>613.0</td>\n",
       "      <td>7</td>\n",
       "      <td>52.61</td>\n",
       "    </tr>\n",
       "  </tbody>\n",
       "</table>\n",
       "<p>1030 rows × 9 columns</p>\n",
       "</div>"
      ],
      "text/plain": [
       "      cement   slag    ash  water  superplastic  coarseagg  fineagg  age  \\\n",
       "0      141.3  212.0    0.0  203.5           0.0      971.8    748.5   28   \n",
       "1      168.9   42.2  124.3  158.3          10.8     1080.8    796.2   14   \n",
       "2      250.0    0.0   95.7  187.4           5.5      956.9    861.2   28   \n",
       "3      266.0  114.0    0.0  228.0           0.0      932.0    670.0   28   \n",
       "4      154.8  183.4    0.0  193.3           9.1     1047.4    696.7   28   \n",
       "...      ...    ...    ...    ...           ...        ...      ...  ...   \n",
       "1025   135.0    0.0  166.0  180.0          10.0      961.0    805.0   28   \n",
       "1026   531.3    0.0    0.0  141.8          28.2      852.1    893.7    3   \n",
       "1027   276.4  116.0   90.3  179.6           8.9      870.1    768.3   28   \n",
       "1028   342.0   38.0    0.0  228.0           0.0      932.0    670.0  270   \n",
       "1029   540.0    0.0    0.0  173.0           0.0     1125.0    613.0    7   \n",
       "\n",
       "      strength  \n",
       "0        29.89  \n",
       "1        23.51  \n",
       "2        29.22  \n",
       "3        45.85  \n",
       "4        18.29  \n",
       "...        ...  \n",
       "1025     13.29  \n",
       "1026     41.30  \n",
       "1027     44.28  \n",
       "1028     55.06  \n",
       "1029     52.61  \n",
       "\n",
       "[1030 rows x 9 columns]"
      ]
     },
     "execution_count": 1,
     "metadata": {},
     "output_type": "execute_result"
    }
   ],
   "source": [
    "import pandas as pd\n",
    "\n",
    "# read csv file\n",
    "df = pd.read_csv(\"concrete.csv\")\n",
    "# display DataFrame\n",
    "df\n"
   ]
  },
  {
   "cell_type": "code",
   "execution_count": 2,
   "id": "6f64f5af",
   "metadata": {},
   "outputs": [
    {
     "data": {
      "text/plain": [
       "<bound method DataFrame.info of       cement   slag    ash  water  superplastic  coarseagg  fineagg  age  \\\n",
       "0      141.3  212.0    0.0  203.5           0.0      971.8    748.5   28   \n",
       "1      168.9   42.2  124.3  158.3          10.8     1080.8    796.2   14   \n",
       "2      250.0    0.0   95.7  187.4           5.5      956.9    861.2   28   \n",
       "3      266.0  114.0    0.0  228.0           0.0      932.0    670.0   28   \n",
       "4      154.8  183.4    0.0  193.3           9.1     1047.4    696.7   28   \n",
       "...      ...    ...    ...    ...           ...        ...      ...  ...   \n",
       "1025   135.0    0.0  166.0  180.0          10.0      961.0    805.0   28   \n",
       "1026   531.3    0.0    0.0  141.8          28.2      852.1    893.7    3   \n",
       "1027   276.4  116.0   90.3  179.6           8.9      870.1    768.3   28   \n",
       "1028   342.0   38.0    0.0  228.0           0.0      932.0    670.0  270   \n",
       "1029   540.0    0.0    0.0  173.0           0.0     1125.0    613.0    7   \n",
       "\n",
       "      strength  \n",
       "0        29.89  \n",
       "1        23.51  \n",
       "2        29.22  \n",
       "3        45.85  \n",
       "4        18.29  \n",
       "...        ...  \n",
       "1025     13.29  \n",
       "1026     41.30  \n",
       "1027     44.28  \n",
       "1028     55.06  \n",
       "1029     52.61  \n",
       "\n",
       "[1030 rows x 9 columns]>"
      ]
     },
     "execution_count": 2,
     "metadata": {},
     "output_type": "execute_result"
    }
   ],
   "source": [
    "df.info"
   ]
  },
  {
   "cell_type": "markdown",
   "id": "a381d90a",
   "metadata": {},
   "source": [
    "# Task 2"
   ]
  },
  {
   "cell_type": "code",
   "execution_count": 3,
   "id": "634f55e0",
   "metadata": {},
   "outputs": [
    {
     "data": {
      "text/html": [
       "<div>\n",
       "<style scoped>\n",
       "    .dataframe tbody tr th:only-of-type {\n",
       "        vertical-align: middle;\n",
       "    }\n",
       "\n",
       "    .dataframe tbody tr th {\n",
       "        vertical-align: top;\n",
       "    }\n",
       "\n",
       "    .dataframe thead th {\n",
       "        text-align: right;\n",
       "    }\n",
       "</style>\n",
       "<table border=\"1\" class=\"dataframe\">\n",
       "  <thead>\n",
       "    <tr style=\"text-align: right;\">\n",
       "      <th></th>\n",
       "      <th>cement</th>\n",
       "      <th>slag</th>\n",
       "      <th>ash</th>\n",
       "      <th>water</th>\n",
       "      <th>superplastic</th>\n",
       "      <th>coarseagg</th>\n",
       "      <th>fineagg</th>\n",
       "      <th>age</th>\n",
       "      <th>strength</th>\n",
       "    </tr>\n",
       "  </thead>\n",
       "  <tbody>\n",
       "    <tr>\n",
       "      <th>0</th>\n",
       "      <td>0.089726</td>\n",
       "      <td>0.589872</td>\n",
       "      <td>0.000000</td>\n",
       "      <td>0.652556</td>\n",
       "      <td>0.000000</td>\n",
       "      <td>0.496512</td>\n",
       "      <td>0.387607</td>\n",
       "      <td>0.074176</td>\n",
       "      <td>0.343341</td>\n",
       "    </tr>\n",
       "    <tr>\n",
       "      <th>1</th>\n",
       "      <td>0.152740</td>\n",
       "      <td>0.117418</td>\n",
       "      <td>0.621189</td>\n",
       "      <td>0.291534</td>\n",
       "      <td>0.335404</td>\n",
       "      <td>0.813372</td>\n",
       "      <td>0.507275</td>\n",
       "      <td>0.035714</td>\n",
       "      <td>0.263859</td>\n",
       "    </tr>\n",
       "    <tr>\n",
       "      <th>2</th>\n",
       "      <td>0.337900</td>\n",
       "      <td>0.000000</td>\n",
       "      <td>0.478261</td>\n",
       "      <td>0.523962</td>\n",
       "      <td>0.170807</td>\n",
       "      <td>0.453198</td>\n",
       "      <td>0.670346</td>\n",
       "      <td>0.074176</td>\n",
       "      <td>0.334994</td>\n",
       "    </tr>\n",
       "    <tr>\n",
       "      <th>3</th>\n",
       "      <td>0.374429</td>\n",
       "      <td>0.317195</td>\n",
       "      <td>0.000000</td>\n",
       "      <td>0.848243</td>\n",
       "      <td>0.000000</td>\n",
       "      <td>0.380814</td>\n",
       "      <td>0.190667</td>\n",
       "      <td>0.074176</td>\n",
       "      <td>0.542170</td>\n",
       "    </tr>\n",
       "    <tr>\n",
       "      <th>4</th>\n",
       "      <td>0.120548</td>\n",
       "      <td>0.510295</td>\n",
       "      <td>0.000000</td>\n",
       "      <td>0.571086</td>\n",
       "      <td>0.282609</td>\n",
       "      <td>0.716279</td>\n",
       "      <td>0.257652</td>\n",
       "      <td>0.074176</td>\n",
       "      <td>0.198829</td>\n",
       "    </tr>\n",
       "  </tbody>\n",
       "</table>\n",
       "</div>"
      ],
      "text/plain": [
       "     cement      slag       ash     water  superplastic  coarseagg   fineagg  \\\n",
       "0  0.089726  0.589872  0.000000  0.652556      0.000000   0.496512  0.387607   \n",
       "1  0.152740  0.117418  0.621189  0.291534      0.335404   0.813372  0.507275   \n",
       "2  0.337900  0.000000  0.478261  0.523962      0.170807   0.453198  0.670346   \n",
       "3  0.374429  0.317195  0.000000  0.848243      0.000000   0.380814  0.190667   \n",
       "4  0.120548  0.510295  0.000000  0.571086      0.282609   0.716279  0.257652   \n",
       "\n",
       "        age  strength  \n",
       "0  0.074176  0.343341  \n",
       "1  0.035714  0.263859  \n",
       "2  0.074176  0.334994  \n",
       "3  0.074176  0.542170  \n",
       "4  0.074176  0.198829  "
      ]
     },
     "execution_count": 3,
     "metadata": {},
     "output_type": "execute_result"
    }
   ],
   "source": [
    "df.isnull().sum()\n",
    "df.dtypes\n",
    "from sklearn import preprocessing\n",
    "\n",
    "# Get column names first\n",
    "columnname = df.columns\n",
    "# Create the Scaler object\n",
    "scaler = preprocessing.MinMaxScaler()\n",
    "# Fit your data on the scaler object\n",
    "data_normalized = scaler.fit_transform(df)\n",
    "data_normalized = pd.DataFrame(data_normalized, columns=columnname)\n",
    "data_normalized.head()\n"
   ]
  },
  {
   "cell_type": "markdown",
   "id": "63004bb1",
   "metadata": {},
   "source": [
    "# Task 3"
   ]
  },
  {
   "cell_type": "code",
   "execution_count": 4,
   "id": "f323667c",
   "metadata": {},
   "outputs": [
    {
     "data": {
      "text/html": [
       "<div>\n",
       "<style scoped>\n",
       "    .dataframe tbody tr th:only-of-type {\n",
       "        vertical-align: middle;\n",
       "    }\n",
       "\n",
       "    .dataframe tbody tr th {\n",
       "        vertical-align: top;\n",
       "    }\n",
       "\n",
       "    .dataframe thead th {\n",
       "        text-align: right;\n",
       "    }\n",
       "</style>\n",
       "<table border=\"1\" class=\"dataframe\">\n",
       "  <thead>\n",
       "    <tr style=\"text-align: right;\">\n",
       "      <th></th>\n",
       "      <th>cement</th>\n",
       "      <th>slag</th>\n",
       "      <th>ash</th>\n",
       "      <th>water</th>\n",
       "      <th>superplastic</th>\n",
       "      <th>coarseagg</th>\n",
       "      <th>fineagg</th>\n",
       "      <th>age</th>\n",
       "      <th>strength</th>\n",
       "    </tr>\n",
       "  </thead>\n",
       "  <tbody>\n",
       "    <tr>\n",
       "      <th>0</th>\n",
       "      <td>141.3</td>\n",
       "      <td>212.0</td>\n",
       "      <td>0.0</td>\n",
       "      <td>203.5</td>\n",
       "      <td>0.0</td>\n",
       "      <td>971.8</td>\n",
       "      <td>748.5</td>\n",
       "      <td>28</td>\n",
       "      <td>29.89</td>\n",
       "    </tr>\n",
       "    <tr>\n",
       "      <th>1</th>\n",
       "      <td>168.9</td>\n",
       "      <td>42.2</td>\n",
       "      <td>124.3</td>\n",
       "      <td>158.3</td>\n",
       "      <td>10.8</td>\n",
       "      <td>1080.8</td>\n",
       "      <td>796.2</td>\n",
       "      <td>14</td>\n",
       "      <td>23.51</td>\n",
       "    </tr>\n",
       "    <tr>\n",
       "      <th>2</th>\n",
       "      <td>250.0</td>\n",
       "      <td>0.0</td>\n",
       "      <td>95.7</td>\n",
       "      <td>187.4</td>\n",
       "      <td>5.5</td>\n",
       "      <td>956.9</td>\n",
       "      <td>861.2</td>\n",
       "      <td>28</td>\n",
       "      <td>29.22</td>\n",
       "    </tr>\n",
       "    <tr>\n",
       "      <th>3</th>\n",
       "      <td>266.0</td>\n",
       "      <td>114.0</td>\n",
       "      <td>0.0</td>\n",
       "      <td>228.0</td>\n",
       "      <td>0.0</td>\n",
       "      <td>932.0</td>\n",
       "      <td>670.0</td>\n",
       "      <td>28</td>\n",
       "      <td>45.85</td>\n",
       "    </tr>\n",
       "    <tr>\n",
       "      <th>4</th>\n",
       "      <td>154.8</td>\n",
       "      <td>183.4</td>\n",
       "      <td>0.0</td>\n",
       "      <td>193.3</td>\n",
       "      <td>9.1</td>\n",
       "      <td>1047.4</td>\n",
       "      <td>696.7</td>\n",
       "      <td>28</td>\n",
       "      <td>18.29</td>\n",
       "    </tr>\n",
       "    <tr>\n",
       "      <th>...</th>\n",
       "      <td>...</td>\n",
       "      <td>...</td>\n",
       "      <td>...</td>\n",
       "      <td>...</td>\n",
       "      <td>...</td>\n",
       "      <td>...</td>\n",
       "      <td>...</td>\n",
       "      <td>...</td>\n",
       "      <td>...</td>\n",
       "    </tr>\n",
       "    <tr>\n",
       "      <th>1025</th>\n",
       "      <td>135.0</td>\n",
       "      <td>0.0</td>\n",
       "      <td>166.0</td>\n",
       "      <td>180.0</td>\n",
       "      <td>10.0</td>\n",
       "      <td>961.0</td>\n",
       "      <td>805.0</td>\n",
       "      <td>28</td>\n",
       "      <td>13.29</td>\n",
       "    </tr>\n",
       "    <tr>\n",
       "      <th>1026</th>\n",
       "      <td>531.3</td>\n",
       "      <td>0.0</td>\n",
       "      <td>0.0</td>\n",
       "      <td>141.8</td>\n",
       "      <td>28.2</td>\n",
       "      <td>852.1</td>\n",
       "      <td>893.7</td>\n",
       "      <td>3</td>\n",
       "      <td>41.30</td>\n",
       "    </tr>\n",
       "    <tr>\n",
       "      <th>1027</th>\n",
       "      <td>276.4</td>\n",
       "      <td>116.0</td>\n",
       "      <td>90.3</td>\n",
       "      <td>179.6</td>\n",
       "      <td>8.9</td>\n",
       "      <td>870.1</td>\n",
       "      <td>768.3</td>\n",
       "      <td>28</td>\n",
       "      <td>44.28</td>\n",
       "    </tr>\n",
       "    <tr>\n",
       "      <th>1028</th>\n",
       "      <td>342.0</td>\n",
       "      <td>38.0</td>\n",
       "      <td>0.0</td>\n",
       "      <td>228.0</td>\n",
       "      <td>0.0</td>\n",
       "      <td>932.0</td>\n",
       "      <td>670.0</td>\n",
       "      <td>270</td>\n",
       "      <td>55.06</td>\n",
       "    </tr>\n",
       "    <tr>\n",
       "      <th>1029</th>\n",
       "      <td>540.0</td>\n",
       "      <td>0.0</td>\n",
       "      <td>0.0</td>\n",
       "      <td>173.0</td>\n",
       "      <td>0.0</td>\n",
       "      <td>1125.0</td>\n",
       "      <td>613.0</td>\n",
       "      <td>7</td>\n",
       "      <td>52.61</td>\n",
       "    </tr>\n",
       "  </tbody>\n",
       "</table>\n",
       "<p>1030 rows × 9 columns</p>\n",
       "</div>"
      ],
      "text/plain": [
       "      cement   slag    ash  water  superplastic  coarseagg  fineagg  age  \\\n",
       "0      141.3  212.0    0.0  203.5           0.0      971.8    748.5   28   \n",
       "1      168.9   42.2  124.3  158.3          10.8     1080.8    796.2   14   \n",
       "2      250.0    0.0   95.7  187.4           5.5      956.9    861.2   28   \n",
       "3      266.0  114.0    0.0  228.0           0.0      932.0    670.0   28   \n",
       "4      154.8  183.4    0.0  193.3           9.1     1047.4    696.7   28   \n",
       "...      ...    ...    ...    ...           ...        ...      ...  ...   \n",
       "1025   135.0    0.0  166.0  180.0          10.0      961.0    805.0   28   \n",
       "1026   531.3    0.0    0.0  141.8          28.2      852.1    893.7    3   \n",
       "1027   276.4  116.0   90.3  179.6           8.9      870.1    768.3   28   \n",
       "1028   342.0   38.0    0.0  228.0           0.0      932.0    670.0  270   \n",
       "1029   540.0    0.0    0.0  173.0           0.0     1125.0    613.0    7   \n",
       "\n",
       "      strength  \n",
       "0        29.89  \n",
       "1        23.51  \n",
       "2        29.22  \n",
       "3        45.85  \n",
       "4        18.29  \n",
       "...        ...  \n",
       "1025     13.29  \n",
       "1026     41.30  \n",
       "1027     44.28  \n",
       "1028     55.06  \n",
       "1029     52.61  \n",
       "\n",
       "[1030 rows x 9 columns]"
      ]
     },
     "execution_count": 4,
     "metadata": {},
     "output_type": "execute_result"
    },
    {
     "data": {
      "image/png": "[encoded data removed]",
      "text/plain": [
       "<Figure size 432x288 with 1 Axes>"
      ]
     },
     "metadata": {
      "needs_background": "light"
     },
     "output_type": "display_data"
    }
   ],
   "source": [
    "data_var = data_normalized.var()\n",
    "data_var = data_var.sort_values(ascending=False)\n",
    "data_var.head(10).plot(kind='bar')\n",
    "\n",
    "from sklearn.feature_selection import VarianceThreshold\n",
    "def variance_threshold_selector(data, threshold=0.05):\n",
    "    selector = VarianceThreshold(threshold)\n",
    "    selector.fit(data)\n",
    "    return data[data.columns[selector.get_support(indices=True)]]\n",
    "\n",
    "variance_threshold_selector(df, 0.5)\n"
   ]
  },
  {
   "cell_type": "markdown",
   "id": "4bdfbb83",
   "metadata": {},
   "source": [
    "Ash has the highest"
   ]
  },
  {
   "cell_type": "markdown",
   "id": "4e0d0184",
   "metadata": {},
   "source": [
    "# Task 4"
   ]
  },
  {
   "cell_type": "code",
   "execution_count": 5,
   "id": "50c60a7f",
   "metadata": {},
   "outputs": [
    {
     "name": "stdout",
     "output_type": "stream",
     "text": [
      "   cement  slag  ash  water  superplastic  coarseagg  fineagg  age  strength\n",
      "0     0.0   5.0  0.0    6.0           0.0        4.0      3.0  0.0       3.0\n",
      "1     1.0   1.0  6.0    2.0           3.0        8.0      5.0  0.0       2.0\n",
      "2     3.0   0.0  4.0    5.0           1.0        4.0      6.0  0.0       3.0\n",
      "3     3.0   3.0  0.0    8.0           0.0        3.0      1.0  0.0       5.0\n",
      "4     1.0   5.0  0.0    5.0           2.0        7.0      2.0  0.0       1.0\n"
     ]
    }
   ],
   "source": [
    "\n",
    "from sklearn.preprocessing import KBinsDiscretizer\n",
    "\n",
    "\n",
    "est = KBinsDiscretizer(n_bins=10, encode='ordinal', strategy='uniform')\n",
    "df_bin=data_normalized.copy(deep=True)\n",
    "for i in df_bin:\n",
    "    df_bin[i]= est.fit_transform( df_bin[[i]])\n",
    " \n",
    "print(df_bin.head(5))  \n",
    "                                              "
   ]
  },
  {
   "cell_type": "markdown",
   "id": "868d02f8",
   "metadata": {},
   "source": [
    "# Task 5"
   ]
  },
  {
   "cell_type": "code",
   "execution_count": 6,
   "id": "72ba5bf7",
   "metadata": {},
   "outputs": [
    {
     "name": "stdout",
     "output_type": "stream",
     "text": [
      "Original feature number: 9\n",
      "Reduced feature number: 3\n",
      "                    Score        P_value\n",
      "strength      1268.272969  2.199982e-267\n",
      "age            449.406805   3.839978e-91\n",
      "cement         389.323587   2.594980e-78\n",
      "superplastic   250.501420   7.818117e-49\n"
     ]
    }
   ],
   "source": [
    "# Load libraries\n",
    "\n",
    "from sklearn.feature_selection import SelectKBest\n",
    "from sklearn.feature_selection import chi2\n",
    "\n",
    "\n",
    "# Create features and target\n",
    "X = df_bin\n",
    "y = df_bin.strength\n",
    "\n",
    "# Convert to categorical data by converting data to integers\n",
    "X = X.astype(int)\n",
    "\n",
    "# Two features with highest chi-squared statistics are selected\n",
    "chi2_features = SelectKBest(chi2, k = 3)\n",
    "X_kbest_features = chi2_features.fit_transform(X, y)\n",
    "\n",
    "# Reduced features\n",
    "print('Original feature number:', X.shape[1])\n",
    "print('Reduced feature number:',X_kbest_features.shape[1])\n",
    "\n",
    "feature_scores = pd.DataFrame({'Score':chi2_features.scores_,\n",
    "'P_value':chi2_features.pvalues_},\n",
    "index=df.columns)\n",
    "feature_scores1= feature_scores.sort_values('P_value', ascending=True)\n",
    "print(feature_scores1.head(4))"
   ]
  },
  {
   "cell_type": "markdown",
   "id": "a33bee3c",
   "metadata": {},
   "source": [
    "The features selected were age,cement, and superplastic. The P values are shown in the table above"
   ]
  },
  {
   "cell_type": "markdown",
   "id": "9b49cd3d",
   "metadata": {},
   "source": [
    "# Task 6\n"
   ]
  },
  {
   "cell_type": "code",
   "execution_count": 7,
   "id": "6489dc33",
   "metadata": {},
   "outputs": [
    {
     "name": "stdout",
     "output_type": "stream",
     "text": [
      "                cement      slag       ash     water  superplastic  coarseagg  \\\n",
      "cement        1.000000 -0.284050 -0.419996 -0.040112      0.102677  -0.113495   \n",
      "slag         -0.284050  1.000000 -0.326209  0.118098      0.025579  -0.256462   \n",
      "ash          -0.419996 -0.326209  1.000000 -0.270722      0.327582  -0.004536   \n",
      "water        -0.040112  0.118098 -0.270722  1.000000     -0.660408  -0.167456   \n",
      "superplastic  0.102677  0.025579  0.327582 -0.660408      1.000000  -0.250397   \n",
      "coarseagg    -0.113495 -0.256462 -0.004536 -0.167456     -0.250397   1.000000   \n",
      "fineagg      -0.204731 -0.274713  0.067298 -0.485882      0.242307  -0.156467   \n",
      "age           0.109157 -0.047326 -0.179074  0.264387     -0.193401   0.000758   \n",
      "strength      0.473928  0.115409 -0.110390 -0.276960      0.353363  -0.154574   \n",
      "\n",
      "               fineagg       age  strength  \n",
      "cement       -0.204731  0.109157  0.473928  \n",
      "slag         -0.274713 -0.047326  0.115409  \n",
      "ash           0.067298 -0.179074 -0.110390  \n",
      "water        -0.485882  0.264387 -0.276960  \n",
      "superplastic  0.242307 -0.193401  0.353363  \n",
      "coarseagg    -0.156467  0.000758 -0.154574  \n",
      "fineagg       1.000000 -0.145573 -0.158696  \n",
      "age          -0.145573  1.000000  0.282069  \n",
      "strength     -0.158696  0.282069  1.000000  \n"
     ]
    },
    {
     "data": {
      "text/plain": [
       "<AxesSubplot:>"
      ]
     },
     "execution_count": 7,
     "metadata": {},
     "output_type": "execute_result"
    },
    {
     "data": {
      "image/png": "[encoded data removed]",
      "text/plain": [
       "<Figure size 1080x720 with 2 Axes>"
      ]
     },
     "metadata": {
      "needs_background": "light"
     },
     "output_type": "display_data"
    }
   ],
   "source": [
    "\n",
    "\n",
    "df_bin_chi=df_bin[['strength','age', 'cement','superplastic']].copy(deep=True)\n",
    "\n",
    "import matplotlib.pyplot as plt\n",
    "import seaborn as sns\n",
    "corr = df_bin.corr()\n",
    "print(corr)\n",
    "plt.figure(figsize=(15,10))\n",
    "sns.heatmap(corr, \n",
    "        xticklabels=corr.columns,\n",
    "        yticklabels=corr.columns, annot = True,cmap= 'coolwarm')"
   ]
  },
  {
   "cell_type": "markdown",
   "id": "fbd9ab2a",
   "metadata": {},
   "source": [
    "feature which is most correlated with the target value: cement\n"
   ]
  },
  {
   "cell_type": "markdown",
   "id": "b4329fc0",
   "metadata": {},
   "source": [
    "feature which is negatively correlated with the target value: water \n"
   ]
  },
  {
   "cell_type": "markdown",
   "id": "0db95895",
   "metadata": {},
   "source": [
    "Which 5 features would you keep? Plot a bar chart to verify.\n"
   ]
  },
  {
   "cell_type": "code",
   "execution_count": 8,
   "id": "09b7c182",
   "metadata": {},
   "outputs": [
    {
     "name": "stdout",
     "output_type": "stream",
     "text": [
      "strength        1.000000\n",
      "cement          0.473928\n",
      "superplastic    0.353363\n",
      "age             0.282069\n",
      "slag            0.115409\n",
      "ash            -0.110390\n",
      "coarseagg      -0.154574\n",
      "fineagg        -0.158696\n",
      "water          -0.276960\n",
      "Name: strength, dtype: float64\n"
     ]
    },
    {
     "data": {
      "text/plain": [
       "<AxesSubplot:>"
      ]
     },
     "execution_count": 8,
     "metadata": {},
     "output_type": "execute_result"
    },
    {
     "data": {
      "image/png": "[encoded data removed]",
      "text/plain": [
       "<Figure size 432x288 with 1 Axes>"
      ]
     },
     "metadata": {
      "needs_background": "light"
     },
     "output_type": "display_data"
    }
   ],
   "source": [
    "corr_asc=corr['strength'].sort_values(ascending=False).copy(deep=True)\n",
    "print(corr_asc)\n",
    "\n",
    "corr[['strength']].plot(kind='bar')"
   ]
  },
  {
   "cell_type": "markdown",
   "id": "71bf2d5d",
   "metadata": {},
   "source": [
    "The ones we keep are the ones with the highest correlation score (longest column): cement, microplastic, water, age, fineagg"
   ]
  },
  {
   "cell_type": "markdown",
   "id": "bc721ffc",
   "metadata": {},
   "source": [
    "# Task 7"
   ]
  },
  {
   "cell_type": "code",
   "execution_count": 9,
   "id": "c01c08bd",
   "metadata": {},
   "outputs": [
    {
     "name": "stdout",
     "output_type": "stream",
     "text": [
      "        PC1       PC2       PC3       PC4       PC5\n",
      "0 -1.733974 -4.787805  2.798996  0.088252  1.040572\n",
      "1  5.543338 -0.677878 -1.672263  0.706565  2.843377\n",
      "2  2.190478 -0.038391 -0.612302  1.121747 -1.883618\n",
      "3 -3.784361 -2.449149  1.483952 -2.600889 -1.204841\n",
      "4 -1.211103 -4.963998  0.663355  0.188691  3.078056\n",
      "variance of first pricipal component: 12.086391982675186\n"
     ]
    },
    {
     "data": {
      "image/png": "[encoded data removed]",
      "text/plain": [
       "<Figure size 300x300 with 1 Axes>"
      ]
     },
     "metadata": {
      "needs_background": "light"
     },
     "output_type": "display_data"
    }
   ],
   "source": [
    "from sklearn.decomposition import PCA\n",
    "pca = PCA(n_components=5)\n",
    "principalComponents = pca.fit_transform(df_bin)\n",
    "principalDf = pd.DataFrame(data = principalComponents, columns = ['PC1', 'PC2', 'PC3','PC4', 'PC5', ])\n",
    "print(principalDf.head(5))\n",
    "print(\"variance of first pricipal component: \"+str(principalDf.PC1.var()))\n",
    "\n",
    "\n",
    "variance_exp_cumsum = pca.explained_variance_ratio_.cumsum().round(2)\n",
    "fig, axes = plt.subplots(1,1,figsize=(3,3), dpi=100)\n",
    "plt.plot(variance_exp_cumsum, color='firebrick')\n",
    "plt.title('Screeplot of Variance Explained %', fontsize=15)\n",
    "plt.xlabel('# of PCs', fontsize=16)\n",
    "plt.show()\n",
    "\n"
   ]
  },
  {
   "cell_type": "code",
   "execution_count": 10,
   "id": "af4f54bd",
   "metadata": {},
   "outputs": [
    {
     "name": "stdout",
     "output_type": "stream",
     "text": [
      "0   -0.410210\n",
      "1   -0.218710\n",
      "2    0.787440\n",
      "3   -0.188090\n",
      "4    0.144959\n",
      "5    0.076400\n",
      "6    0.192908\n",
      "7   -0.143338\n",
      "8   -0.209391\n",
      "Name: 0, dtype: float64\n",
      "feature that has the highest weight in the first PC: ash\n"
     ]
    },
    {
     "data": {
      "image/png": "[encoded data removed]",
      "text/plain": [
       "<Figure size 432x288 with 1 Axes>"
      ]
     },
     "metadata": {
      "needs_background": "light"
     },
     "output_type": "display_data"
    }
   ],
   "source": [
    "\n",
    "\n",
    "df_pca_loadings = pd.DataFrame(pca.components_)\n",
    "print(df_pca_loadings.iloc[0, :])\n",
    "\n",
    "df_pca_loadings.iloc[0, :].plot(kind=\"bar\")\n",
    "print( \"feature that has the highest weight in the first PC: ash\" )\n"
   ]
  },
  {
   "cell_type": "code",
   "execution_count": 11,
   "id": "4980ce20",
   "metadata": {},
   "outputs": [
    {
     "name": "stdout",
     "output_type": "stream",
     "text": [
      "0    0.520409\n",
      "1   -0.265149\n",
      "2    0.165457\n",
      "3   -0.361799\n",
      "4    0.394748\n",
      "5   -0.216548\n",
      "6    0.148023\n",
      "7    0.014866\n",
      "8    0.525115\n",
      "Name: 1, dtype: float64\n",
      "feature that has the highest weight in the second PC: superplastic\n"
     ]
    },
    {
     "data": {
      "text/plain": [
       "<AxesSubplot:>"
      ]
     },
     "execution_count": 11,
     "metadata": {},
     "output_type": "execute_result"
    },
    {
     "data": {
      "image/png": "[encoded data removed]",
      "text/plain": [
       "<Figure size 432x288 with 1 Axes>"
      ]
     },
     "metadata": {
      "needs_background": "light"
     },
     "output_type": "display_data"
    }
   ],
   "source": [
    "\n",
    "df_pca_loadings = pd.DataFrame(pca.components_)\n",
    "print(df_pca_loadings.iloc[1, :])\n",
    "print( \"feature that has the highest weight in the second PC: superplastic\" )\n",
    "df_pca_loadings.iloc[1, :].plot(kind=\"bar\")"
   ]
  },
  {
   "cell_type": "code",
   "execution_count": 12,
   "id": "836e64b8",
   "metadata": {},
   "outputs": [
    {
     "data": {
      "text/plain": [
       "<AxesSubplot:>"
      ]
     },
     "execution_count": 12,
     "metadata": {},
     "output_type": "execute_result"
    },
    {
     "data": {
      "image/png": "[encoded data removed]",
      "text/plain": [
       "<Figure size 432x288 with 1 Axes>"
      ]
     },
     "metadata": {
      "needs_background": "light"
     },
     "output_type": "display_data"
    }
   ],
   "source": [
    "principalDf.PC1.plot()\n"
   ]
  },
  {
   "cell_type": "code",
   "execution_count": 13,
   "id": "53768eef",
   "metadata": {},
   "outputs": [
    {
     "data": {
      "text/plain": [
       "<AxesSubplot:>"
      ]
     },
     "execution_count": 13,
     "metadata": {},
     "output_type": "execute_result"
    },
    {
     "data": {
      "image/png": "[encoded data removed]",
      "text/plain": [
       "<Figure size 432x288 with 1 Axes>"
      ]
     },
     "metadata": {
      "needs_background": "light"
     },
     "output_type": "display_data"
    }
   ],
   "source": [
    "principalDf.PC2.plot()"
   ]
  },
  {
   "cell_type": "markdown",
   "id": "ebaf88c6",
   "metadata": {},
   "source": [
    "# Task 8"
   ]
  },
  {
   "cell_type": "code",
   "execution_count": 14,
   "id": "a3e00186",
   "metadata": {},
   "outputs": [
    {
     "name": "stdout",
     "output_type": "stream",
     "text": [
      "Score of original data set:\n",
      "1.0\n",
      "Score of feature selected data set:\n",
      "0.8150764647536209\n"
     ]
    }
   ],
   "source": [
    "from sklearn.tree import DecisionTreeRegressor \n",
    "  \n",
    "# create a regressor object\n",
    "regressor = DecisionTreeRegressor(random_state = 0) \n",
    "\n",
    "X=X.astype(int) \n",
    "y=y.astype(int) \n",
    "# fit the regressor with X and Y data\n",
    "regressor.fit(X, y)\n",
    "\n",
    "print(\"Score of original data set:\")\n",
    "print(regressor.score(X,y))\n",
    "\n",
    "\n",
    "X_features=df_bin[[ 'cement', 'superplastic' ,'age', 'water', 'fineagg' ] ]\n",
    "regressor.fit(X_features,y)\n",
    "\n",
    "print(\"Score of feature selected data set:\")\n",
    "print(regressor.score(X_features,y))\n",
    "\n",
    "\n",
    "  "
   ]
  }
 ],
 "metadata": {
  "kernelspec": {
   "display_name": "Python 3.10.4 64-bit",
   "language": "python",
   "name": "python3"
  },
  "language_info": {
   "codemirror_mode": {
    "name": "ipython",
    "version": 3
   },
   "file_extension": ".py",
   "mimetype": "text/x-python",
   "name": "python",
   "nbconvert_exporter": "python",
   "pygments_lexer": "ipython3",
   "version": "3.10.4"
  },
  "vscode": {
   "interpreter": {
    "hash": "e593ac106456af50ce7af38f9671c411b49d6cd90f9b885e167f0f594e09038c"
   }
  }
 },
 "nbformat": 4,
 "nbformat_minor": 5
}
